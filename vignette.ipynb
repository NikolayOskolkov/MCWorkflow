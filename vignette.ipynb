{
 "cells": [
  {
   "cell_type": "markdown",
   "id": "cf143513-8acd-4ba2-84cb-63676191a94b",
   "metadata": {},
   "source": [
    "# Vignette demonstrating microbial-like sequence discovery workflow\n",
    "\n",
    "#### Nikolay Oskolkov, SciLifeLab, NBIS Long Term Support, nikolay.oskolkov@scilifelab.se\n",
    "\n",
    "<h3><center>Abstract</center></h3>\n",
    "In this vignette, we will demonstrate how to prepare and run the workflow detecting microbial-like sequeneces in eukaryotic reference genomes. Thw workflow accepts a eukaryotic reference in FASTA-format and outputs coordinates of microbial-like regions together with microbial species annotation.\n",
    "\n",
    "### Table of Contents\n",
    "* [Prepare input files](#Prepare-input-files)\n",
    "* [Run workflow](#Run-workflow)"
   ]
  },
  {
   "cell_type": "markdown",
   "id": "41a72ccd-3d3f-4c3d-9552-764231cfd610",
   "metadata": {},
   "source": [
    "![Green algae](images/GreenAlgae.png)"
   ]
  },
  {
   "cell_type": "markdown",
   "id": "58717f63-da74-4931-9131-52df582c9a7f",
   "metadata": {},
   "source": [
    "### Prepare input files <a class=\"anchor\" id=\"Prepare-input-files\"></a>\n",
    "\n",
    "For demonstration purposes we are going to use the reference genome of [*Bathycoccus prasinos*](https://en.wikipedia.org/wiki/Bathycoccus_prasinos) which is a green algae (picoplankton) eukaryotic organism related to plants. The reference genome [GCF_002220235.1](https://www.ncbi.nlm.nih.gov/datasets/genome/GCF_002220235.1/) of this algae is small (15 Mb) and therefore computationally easy to handle. The worflow together with the test-files is available at the following github address: https://github.com/NikolayOskolkov/MicrLikeInserts_Workflow."
   ]
  },
  {
   "cell_type": "code",
   "execution_count": 1,
   "id": "6d151e82-3cf9-482c-b08e-80de2823a41e",
   "metadata": {},
   "outputs": [
    {
     "name": "stdout",
     "output_type": "stream",
     "text": [
      "total 7584\n",
      "drwxrwxr-x 2 nikolay nikolay    4096 mar  7 16:02 \u001b[0m\u001b[01;34mdata\u001b[0m\n",
      "-rwxrwxr-x 1 nikolay nikolay    6265 feb 28 16:24 \u001b[01;32mextract_coords_micr_contam.R\u001b[0m\n",
      "-rw-r--r-- 1 nikolay nikolay 3766396 feb 25 14:15 GTDB_fna2name.txt\n",
      "-rw-rw-r-- 1 nikolay nikolay 3675565 mar  7 10:57 \u001b[01;31mGTDB_sliced_seqs_sliding_window.fna.gz\u001b[0m\n",
      "drwxrwxr-x 2 nikolay nikolay    4096 mar  7 16:19 \u001b[01;34mimages\u001b[0m\n",
      "-rwxrwxr-x 1 nikolay nikolay    5000 mar  7 12:56 \u001b[01;32mmicr_cont_detect.sh\u001b[0m\n",
      "-rw-rw-r-- 1 nikolay nikolay  282968 mar  7 16:40 vignette.html\n",
      "-rw-rw-r-- 1 nikolay nikolay    6959 mar  7 17:11 vignette.ipynb\n"
     ]
    }
   ],
   "source": [
    "ls -l"
   ]
  },
  {
   "cell_type": "markdown",
   "id": "040acdfd-a933-4115-8ae5-d0dc5004eb2a",
   "metadata": {},
   "source": [
    "Let us now download an eukaryotic reference genome and place it in a data-folder"
   ]
  },
  {
   "cell_type": "code",
   "execution_count": 2,
   "id": "423ac25a-ffa5-4c5c-888f-b791872c1779",
   "metadata": {},
   "outputs": [
    {
     "name": "stdout",
     "output_type": "stream",
     "text": [
      "/home/nikolay/vignette\n"
     ]
    }
   ],
   "source": [
    "pwd"
   ]
  },
  {
   "cell_type": "markdown",
   "id": "079cc822-730e-49da-bffc-d61e5a3b47c2",
   "metadata": {},
   "source": [
    "### Run workflow <a class=\"anchor\" id=\"Run-workflow\"></a>\n",
    "\n",
    "Now we can start the workflow by the following command line:"
   ]
  },
  {
   "cell_type": "code",
   "execution_count": 3,
   "id": "5890b901-d1fe-4439-844e-2122e0ac2de0",
   "metadata": {},
   "outputs": [
    {
     "name": "stdout",
     "output_type": "stream",
     "text": [
      "\n",
      "PREPARING FILES FOR ANALYSIS OF GCF_002220235.fna.gz REFERENCE GENOME\n",
      "\n",
      "BUILDING BOWTIE2 INDEX FOR GCF_002220235.fna.gz REFERENCE GENOME\n",
      "ALIGNING MICROBIAL READS WITH BOWTIE2 TO GCF_002220235.fna.gz REFERENCE GENOME\n",
      "[bam_sort_core] merging from 0 files and 4 in-memory blocks...\n",
      "\n",
      "RANKING GCF_002220235.fna.gz CONTIGS BY NUMBER OF MAPPED MICROBIAL READS\n",
      "COMPUTING BREADTH OF COVERAGE FOR EACH CONTIG AND COORDINATES OF MICROBIAL CONTAMINATION FOR GCF_002220235.fna.gz REFERENCE GENOME\n",
      "NC_023997.1 CONTIG OF GCF_002220235.fna.gz\n",
      "EXTRACTING COORDINATES OF MICROBIAL CONTAMINATION\n",
      "DELETING BAM AND COMPRESSING BOC FILES\n",
      "NC_024004.1 CONTIG OF GCF_002220235.fna.gz\n",
      "EXTRACTING COORDINATES OF MICROBIAL CONTAMINATION\n",
      "DELETING BAM AND COMPRESSING BOC FILES\n",
      "NC_024008.1 CONTIG OF GCF_002220235.fna.gz\n",
      "EXTRACTING COORDINATES OF MICROBIAL CONTAMINATION\n",
      "DELETING BAM AND COMPRESSING BOC FILES\n",
      "NC_023992.1 CONTIG OF GCF_002220235.fna.gz\n",
      "EXTRACTING COORDINATES OF MICROBIAL CONTAMINATION\n",
      "DELETING BAM AND COMPRESSING BOC FILES\n",
      "NC_024006.1 CONTIG OF GCF_002220235.fna.gz\n",
      "EXTRACTING COORDINATES OF MICROBIAL CONTAMINATION\n",
      "DELETING BAM AND COMPRESSING BOC FILES\n",
      "NC_024001.1 CONTIG OF GCF_002220235.fna.gz\n",
      "EXTRACTING COORDINATES OF MICROBIAL CONTAMINATION\n",
      "DELETING BAM AND COMPRESSING BOC FILES\n",
      "NC_024000.1 CONTIG OF GCF_002220235.fna.gz\n",
      "EXTRACTING COORDINATES OF MICROBIAL CONTAMINATION\n",
      "DELETING BAM AND COMPRESSING BOC FILES\n",
      "NC_024003.1 CONTIG OF GCF_002220235.fna.gz\n",
      "EXTRACTING COORDINATES OF MICROBIAL CONTAMINATION\n",
      "DELETING BAM AND COMPRESSING BOC FILES\n",
      "\n",
      "AGGREGATING RESULTS FOR GCF_002220235.fna.gz REFERENCE GENOME AND CLEANING\n",
      "COMPUTING LIST OF MOST ABUNDANT MICROBES CONTMAMINATING GCF_002220235.fna.gz REFERENCE GENOME\n",
      "\n",
      "ANALYSIS FOR GCF_002220235.fna.gz REFERENCE GENOME FINISHED SUCCESSFULLY\n"
     ]
    }
   ],
   "source": [
    "./micr_cont_detect.sh GCF_002220235.fna.gz /home/nikolay/vignette/data GTDB 4 GTDB_sliced_seqs_sliding_window.fna.gz GTDB_fna2name.txt"
   ]
  },
  {
   "cell_type": "code",
   "execution_count": null,
   "id": "8ab40af3-decd-4d3d-b592-27c9931bebf1",
   "metadata": {},
   "outputs": [],
   "source": []
  },
  {
   "cell_type": "code",
   "execution_count": null,
   "id": "dcfb6f20-9309-445a-ab28-bec2782d0955",
   "metadata": {},
   "outputs": [],
   "source": []
  },
  {
   "cell_type": "code",
   "execution_count": null,
   "id": "dfea4c71-5aae-4dc0-8b64-a344f668fced",
   "metadata": {},
   "outputs": [],
   "source": []
  }
 ],
 "metadata": {
  "kernelspec": {
   "display_name": "Bash",
   "language": "bash",
   "name": "bash"
  },
  "language_info": {
   "codemirror_mode": "shell",
   "file_extension": ".sh",
   "mimetype": "text/x-sh",
   "name": "bash"
  }
 },
 "nbformat": 4,
 "nbformat_minor": 5
}
