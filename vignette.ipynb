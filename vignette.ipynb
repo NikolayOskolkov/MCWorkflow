{
 "cells": [
  {
   "cell_type": "markdown",
   "id": "cf143513-8acd-4ba2-84cb-63676191a94b",
   "metadata": {},
   "source": [
    "# Vignette demonstrating microbial-like sequence discovery workflow\n",
    "\n",
    "#### Nikolay Oskolkov, SciLifeLab, NBIS Long Term Support, nikolay.oskolkov@scilifelab.se\n",
    "\n",
    "<h3><center>Abstract</center></h3>\n",
    "In this vignette, we will demonstrate how to prepare and run the workflow detecting microbial-like sequeneces in eukaryotic reference genomes. The workflow accepts a eukaryotic reference in FASTA-format and outputs coordinates of microbial-like regions together with microbial species annotation.\n",
    "\n",
    "### Table of Contents\n",
    "* [Prepare input files](#Prepare-input-files)\n",
    "* [Running workflow](#Running-workflow)\n",
    "* [Interpreting results](#Interpreting-results)"
   ]
  },
  {
   "cell_type": "markdown",
   "id": "41a72ccd-3d3f-4c3d-9552-764231cfd610",
   "metadata": {},
   "source": [
    "![Green algae](images/GreenAlgae.png)"
   ]
  },
  {
   "cell_type": "markdown",
   "id": "58717f63-da74-4931-9131-52df582c9a7f",
   "metadata": {},
   "source": [
    "### Prepare input files <a class=\"anchor\" id=\"Prepare-input-files\"></a>\n",
    "\n",
    "For demonstration purposes we are going to use the reference genome of [*Bathycoccus prasinos*](https://en.wikipedia.org/wiki/Bathycoccus_prasinos) which is a green algae (picoplankton) eukaryotic organism related to plants. The reference genome [GCF_002220235.1](https://www.ncbi.nlm.nih.gov/datasets/genome/GCF_002220235.1/) of this algae is small (15 Mb) and therefore computationally easy to handle. The worflow together with the test-files is available at the following github address: https://github.com/NikolayOskolkov/MCWorkflow. Let us first clone th github repository and inspect its content:"
   ]
  },
  {
   "cell_type": "code",
   "execution_count": 1,
   "id": "0e23766f-8ece-45c9-b5f0-4fe03f562576",
   "metadata": {},
   "outputs": [
    {
     "name": "stdout",
     "output_type": "stream",
     "text": [
      "Cloning into 'MCWorkflow'...\n",
      "remote: Enumerating objects: 23, done.\u001b[K\n",
      "remote: Counting objects: 100% (23/23), done.\u001b[K\n",
      "remote: Compressing objects: 100% (16/16), done.\u001b[K\n",
      "remote: Total 23 (delta 6), reused 14 (delta 3), pack-reused 0 (from 0)\u001b[K\n",
      "Unpacking objects: 100% (23/23), done.\n"
     ]
    }
   ],
   "source": [
    "cd /home/nikolay\n",
    "git clone https://github.com/NikolayOskolkov/MCWorkflow\n",
    "cd MCWorkflow"
   ]
  },
  {
   "cell_type": "code",
   "execution_count": 2,
   "id": "6d151e82-3cf9-482c-b08e-80de2823a41e",
   "metadata": {},
   "outputs": [
    {
     "name": "stdout",
     "output_type": "stream",
     "text": [
      "total 7584\n",
      "drwxrwxr-x 2 nikolay nikolay    4096 mar  8 11:00 \u001b[0m\u001b[01;34mdata\u001b[0m\n",
      "-rwxrwxr-x 1 nikolay nikolay    6265 mar  8 11:00 \u001b[01;32mextract_coords_micr_contam.R\u001b[0m\n",
      "-rw-rw-r-- 1 nikolay nikolay 3766396 mar  8 11:00 GTDB_fna2name.txt\n",
      "-rw-rw-r-- 1 nikolay nikolay 3675565 mar  8 11:00 \u001b[01;31mGTDB_sliced_seqs_sliding_window.fna.gz\u001b[0m\n",
      "drwxrwxr-x 2 nikolay nikolay    4096 mar  8 11:00 \u001b[01;34mimages\u001b[0m\n",
      "-rwxrwxr-x 1 nikolay nikolay    5000 mar  8 11:00 \u001b[01;32mmicr_cont_detect.sh\u001b[0m\n",
      "-rw-rw-r-- 1 nikolay nikolay      26 mar  8 11:00 README.md\n",
      "-rw-rw-r-- 1 nikolay nikolay  282437 mar  8 11:00 vignette.html\n",
      "-rw-rw-r-- 1 nikolay nikolay    7822 mar  8 11:00 vignette.ipynb\n"
     ]
    }
   ],
   "source": [
    "ls -l"
   ]
  },
  {
   "cell_type": "markdown",
   "id": "040acdfd-a933-4115-8ae5-d0dc5004eb2a",
   "metadata": {},
   "source": [
    "The workflow consists of four main files:\n",
    "\n",
    "* **micr_cont_detect.sh** - main shell-script that builds eukaryotic reference genome index, runs alignments and does pre- and post-processing\n",
    "* **extract_coords_micr_contam.R** - helping R script that extracts coordinates of covered regions and annotates them with microbial species\n",
    "* **GTDB_sliced_seqs_sliding_window.fna.gz** - prepared 60bp long GTDB microbial pseudo-reads to be aligned to eukaryotic references\n",
    "* **GTDB_fna2name.txt** - annotation of pseudo-reads with scientific microbial names according to GTDB taxonomy\n",
    "\n",
    "Currently it is important that all the four files are located in the same directory. We recommend to perform all the analysis in this cloned github repository in order to avoid complications with changing the paths and hacking the codes. Please note that the **GTDB_sliced_seqs_sliding_window.fna.gz** file is a small (3.7 MB) demonstration subset of the complete dataset (234 GB) available at the SciLifeLab Figshare [https://doi.org/10.17044/scilifelab.28491956](https://doi.org/10.17044/scilifelab.28491956) which should be used for real-world applications, i.e. for your research you will have to replace the toy-dataset from the github repository by the large one (with identical file name) from the SciLifeLab Figshare. The toy-dataset includes pseudo-reads from only one bacterium named as *UBA796 sp002707085* (with corresponding reference 5oFfr3yp0G.fna) belonging to the phylum Myxococcota in the GTDB databse.\n",
    "\n",
    "Next, we recommend to place the eukaryotic reference genomes tobe profiled for microbial-like sequences into the folder \"data\" within the cloned repository as shown above. Right now, the \"data\"-folder is already present in the cloned repository and the *Bathycoccus prasinos* reference genome GCF_002220235.fna.gz has been already placed within this folder. Let us double-check that the eukaryotic reference genome is indeed inside the \"data\"-folder:"
   ]
  },
  {
   "cell_type": "code",
   "execution_count": 3,
   "id": "0ace2e33-c14b-47da-b956-dcb1205c583c",
   "metadata": {},
   "outputs": [
    {
     "name": "stdout",
     "output_type": "stream",
     "text": [
      "total 4828\n",
      "-rwxrwxr-x 1 nikolay nikolay 4941250 mar  8 11:00 \u001b[0m\u001b[01;32mGCF_002220235.fna.gz\u001b[0m\n"
     ]
    }
   ],
   "source": [
    "cd data && ls -l && cd .."
   ]
  },
  {
   "cell_type": "markdown",
   "id": "656bda2d-48e4-445c-a830-391a47c01fd1",
   "metadata": {},
   "source": [
    "Finally, we make sure that we are going to start the workflow, i.e. call the **micr_cont_detect.sh** script from the cloned github repository:"
   ]
  },
  {
   "cell_type": "code",
   "execution_count": 4,
   "id": "423ac25a-ffa5-4c5c-888f-b791872c1779",
   "metadata": {},
   "outputs": [
    {
     "name": "stdout",
     "output_type": "stream",
     "text": [
      "/home/nikolay/MCWorkflow\n"
     ]
    }
   ],
   "source": [
    "pwd"
   ]
  },
  {
   "cell_type": "markdown",
   "id": "37c2fefd-730b-41b5-b424-1e05c874d2de",
   "metadata": {},
   "source": [
    "Now everything is ready for launching the workflow."
   ]
  },
  {
   "cell_type": "markdown",
   "id": "079cc822-730e-49da-bffc-d61e5a3b47c2",
   "metadata": {},
   "source": [
    "### Running workflow <a class=\"anchor\" id=\"Running-workflow\"></a>\n",
    "\n",
    "Before you start the workflow, please make sure that **R, awk, Bowtie2 and samtools are installed** and available in your path. If you run the workflow on an HPC cluster, please make sure that you have loaded the corresponding modules. The workflow has the following format:\n",
    "\n",
    "**./micr_cont_detect.sh REF_GENOME INPUT_DIR REFSEQ_OR_GTDB THREADS MICR_READS GTDB_ANNOT**\n",
    "\n",
    "where:  \n",
    "\n",
    "* REF_GENOME     - gzipped eukaryotic reference genome in FASTA-format (no path is needed, just the name of the file)\n",
    "* INPUT_DIR      - directory containing the eukaryotic reference genome (here you need to provide the absolute path)\n",
    "* REFSEQ_OR_GTDB - whether RefSeq OR GTDB sliced microbial pseudo-reads are used, can only be \"RefSeq\" or \"GTDB\"\n",
    "* THERADS        - number of threads available\n",
    "* MICR_READS     - GTDB or RefSeq microbial pseudo-reads provided together with the workflow (no path is needed, just the name of the file)\n",
    "* GTDB_ANNOT     - GTDB annotation file GTDB_fna2name.txt provided together with the workflow"
   ]
  },
  {
   "cell_type": "markdown",
   "id": "adc4c172-c3e5-4df1-b1c5-53e82a76e21e",
   "metadata": {},
   "source": [
    "Now we can start the workflow with the following command line:"
   ]
  },
  {
   "cell_type": "code",
   "execution_count": 5,
   "id": "5890b901-d1fe-4439-844e-2122e0ac2de0",
   "metadata": {},
   "outputs": [
    {
     "name": "stdout",
     "output_type": "stream",
     "text": [
      "\n",
      "PREPARING FILES FOR ANALYSIS OF GCF_002220235.fna.gz REFERENCE GENOME\n",
      "\n",
      "BUILDING BOWTIE2 INDEX FOR GCF_002220235.fna.gz REFERENCE GENOME\n",
      "ALIGNING MICROBIAL READS WITH BOWTIE2 TO GCF_002220235.fna.gz REFERENCE GENOME\n",
      "[bam_sort_core] merging from 0 files and 4 in-memory blocks...\n",
      "\n",
      "RANKING GCF_002220235.fna.gz CONTIGS BY NUMBER OF MAPPED MICROBIAL READS\n",
      "COMPUTING BREADTH OF COVERAGE FOR EACH CONTIG AND COORDINATES OF MICROBIAL CONTAMINATION FOR GCF_002220235.fna.gz REFERENCE GENOME\n",
      "NC_023997.1 CONTIG OF GCF_002220235.fna.gz\n",
      "EXTRACTING COORDINATES OF MICROBIAL CONTAMINATION\n",
      "DELETING BAM AND COMPRESSING BOC FILES\n",
      "NC_024004.1 CONTIG OF GCF_002220235.fna.gz\n",
      "EXTRACTING COORDINATES OF MICROBIAL CONTAMINATION\n",
      "DELETING BAM AND COMPRESSING BOC FILES\n",
      "NC_024008.1 CONTIG OF GCF_002220235.fna.gz\n",
      "EXTRACTING COORDINATES OF MICROBIAL CONTAMINATION\n",
      "DELETING BAM AND COMPRESSING BOC FILES\n",
      "NC_023992.1 CONTIG OF GCF_002220235.fna.gz\n",
      "EXTRACTING COORDINATES OF MICROBIAL CONTAMINATION\n",
      "DELETING BAM AND COMPRESSING BOC FILES\n",
      "NC_024006.1 CONTIG OF GCF_002220235.fna.gz\n",
      "EXTRACTING COORDINATES OF MICROBIAL CONTAMINATION\n",
      "DELETING BAM AND COMPRESSING BOC FILES\n",
      "NC_024001.1 CONTIG OF GCF_002220235.fna.gz\n",
      "EXTRACTING COORDINATES OF MICROBIAL CONTAMINATION\n",
      "DELETING BAM AND COMPRESSING BOC FILES\n",
      "NC_024000.1 CONTIG OF GCF_002220235.fna.gz\n",
      "EXTRACTING COORDINATES OF MICROBIAL CONTAMINATION\n",
      "DELETING BAM AND COMPRESSING BOC FILES\n",
      "NC_024003.1 CONTIG OF GCF_002220235.fna.gz\n",
      "EXTRACTING COORDINATES OF MICROBIAL CONTAMINATION\n",
      "DELETING BAM AND COMPRESSING BOC FILES\n",
      "\n",
      "AGGREGATING RESULTS FOR GCF_002220235.fna.gz REFERENCE GENOME AND CLEANING\n",
      "COMPUTING LIST OF MOST ABUNDANT MICROBES CONTMAMINATING GCF_002220235.fna.gz REFERENCE GENOME\n",
      "\n",
      "ANALYSIS FOR GCF_002220235.fna.gz REFERENCE GENOME FINISHED SUCCESSFULLY\n"
     ]
    }
   ],
   "source": [
    "./micr_cont_detect.sh GCF_002220235.fna.gz /home/nikolay/MCWorkflow/data GTDB 4 GTDB_sliced_seqs_sliding_window.fna.gz GTDB_fna2name.txt"
   ]
  },
  {
   "cell_type": "markdown",
   "id": "d4b8649b-db94-412c-9d11-d19f24b8aa6b",
   "metadata": {},
   "source": [
    "For the toy-dataset and the small eukaryotic reference genome, the workflow takes only a few seconds to finish. Please note that for real-world applications, the alignment step is the most time consuming. Since the full GTDB sliced microbial pseudo-reads data set includes 26 billion reads, to our experience, the alignment to e.g. mammalian reference genomes can take up to 48 hours on an HPC compute node with 20 cores. Multi-threading is crucial here, more available threads may considerable speed up the workflow execution."
   ]
  },
  {
   "cell_type": "markdown",
   "id": "7be89237-ec08-4952-a8e3-c30bac6fb37c",
   "metadata": {},
   "source": [
    "### Interepreting results <a class=\"anchor\" id=\"Interpreting-results\"></a>\n",
    "\n",
    "Let us now go through the main outputs-files of the workflow. First of all, we see the bt2l Bowtie2 index-files within the data-folder, and the verbose output of bowtie2-build command was written to bowtie2-build.log file."
   ]
  },
  {
   "cell_type": "code",
   "execution_count": 6,
   "id": "dcfb6f20-9309-445a-ab28-bec2782d0955",
   "metadata": {},
   "outputs": [
    {
     "name": "stdout",
     "output_type": "stream",
     "text": [
      "total 49424\n",
      "-rw-rw-r-- 1 nikolay nikolay    33688 mar  8 11:45 bowtie2-build.log\n",
      "-rwxrwxr-x 1 nikolay nikolay  4941250 mar  8 11:00 \u001b[0m\u001b[01;32mGCF_002220235.fna.gz\u001b[0m\n",
      "-rw-rw-r-- 1 nikolay nikolay 13403961 mar  8 11:45 GCF_002220235.fna.gz.1.bt2l\n",
      "-rw-rw-r-- 1 nikolay nikolay  7519068 mar  8 11:45 GCF_002220235.fna.gz.2.bt2l\n",
      "-rw-rw-r-- 1 nikolay nikolay      709 mar  8 11:44 GCF_002220235.fna.gz.3.bt2l\n",
      "-rw-rw-r-- 1 nikolay nikolay  3759531 mar  8 11:44 GCF_002220235.fna.gz.4.bt2l\n",
      "drwxrwxr-x 2 nikolay nikolay     4096 mar  8 11:45 \u001b[01;34mGCF_002220235.fna.gz_GTDB\u001b[0m\n",
      "-rw-rw-r-- 1 nikolay nikolay 13403961 mar  8 11:45 GCF_002220235.fna.gz.rev.1.bt2l\n",
      "-rw-rw-r-- 1 nikolay nikolay  7519068 mar  8 11:45 GCF_002220235.fna.gz.rev.2.bt2l\n"
     ]
    }
   ],
   "source": [
    "cd data && ls -l"
   ]
  },
  {
   "cell_type": "markdown",
   "id": "b2e1e190-92b1-4bbd-bff2-26a98a667e4c",
   "metadata": {},
   "source": [
    "Further, all the main outputs of the workflow were placed to the **GCF_002220235.fna.gz_GTDB** folder, let us navigate to the folder and check its content:"
   ]
  },
  {
   "cell_type": "code",
   "execution_count": 7,
   "id": "37d3a79a-e3b4-4386-a278-8c63501f5cd1",
   "metadata": {},
   "outputs": [
    {
     "name": "stdout",
     "output_type": "stream",
     "text": [
      "total 128\n",
      "-rw-rw-r-- 1 nikolay nikolay   319 mar  8 11:45 contigs_abund_sorted_GTDB_GCF_002220235.fna.gz.txt\n",
      "-rw-rw-r-- 1 nikolay nikolay   477 mar  8 11:45 contigs_boc_sorted_GTDB_GCF_002220235.fna.gz.txt\n",
      "-rw-rw-r-- 1 nikolay nikolay 36549 mar  8 11:45 coords_micr_contam_GCF_002220235.fna.gz.txt\n",
      "-rw-rw-r-- 1 nikolay nikolay    23 mar  8 11:45 microbes_abundant_GTDB_GCF_002220235.fna.gz.txt\n",
      "-rw-rw-r-- 1 nikolay nikolay 43483 mar  8 11:45 MicrReads_aligned_to_GCF_002220235.fna.gz.bam\n",
      "-rw-rw-r-- 1 nikolay nikolay   309 mar  8 11:45 MicrReads_aligned_to_GCF_002220235.fna.gz.bam.csi\n",
      "-rw-rw-r-- 1 nikolay nikolay  1244 mar  8 11:45 \u001b[0m\u001b[01;31mNC_023992.1__GCF_002220235.fna.gz.boc.gz\u001b[0m\n",
      "-rw-rw-r-- 1 nikolay nikolay  1858 mar  8 11:45 \u001b[01;31mNC_023997.1__GCF_002220235.fna.gz.boc.gz\u001b[0m\n",
      "-rw-rw-r-- 1 nikolay nikolay  2016 mar  8 11:45 \u001b[01;31mNC_024000.1__GCF_002220235.fna.gz.boc.gz\u001b[0m\n",
      "-rw-rw-r-- 1 nikolay nikolay  2171 mar  8 11:45 \u001b[01;31mNC_024001.1__GCF_002220235.fna.gz.boc.gz\u001b[0m\n",
      "-rw-rw-r-- 1 nikolay nikolay  2147 mar  8 11:45 \u001b[01;31mNC_024003.1__GCF_002220235.fna.gz.boc.gz\u001b[0m\n",
      "-rw-rw-r-- 1 nikolay nikolay  2404 mar  8 11:45 \u001b[01;31mNC_024004.1__GCF_002220235.fna.gz.boc.gz\u001b[0m\n",
      "-rw-rw-r-- 1 nikolay nikolay  2504 mar  8 11:45 \u001b[01;31mNC_024006.1__GCF_002220235.fna.gz.boc.gz\u001b[0m\n",
      "-rw-rw-r-- 1 nikolay nikolay  3108 mar  8 11:45 \u001b[01;31mNC_024008.1__GCF_002220235.fna.gz.boc.gz\u001b[0m\n"
     ]
    }
   ],
   "source": [
    "cd GCF_002220235.fna.gz_GTDB && ls -l"
   ]
  },
  {
   "cell_type": "markdown",
   "id": "41ddddde-5c86-4688-8002-16c38293a4ae",
   "metadata": {},
   "source": [
    "Here you can see a number of files. Probably the main file is **coords_micr_contam_GCF_002220235.fna.gz.txt**, this is the coordinates of microbial-like regions in BED-format (despite the file does not have *.bed - extension). The columns in this file have the following meaning: 1) name (id) of the eukaryotic reference genome profiles, 2) contig / scaffold / chromosome id within the eukaryotic reference genome containing microvbial-like region, 3) start coordinate of the detected microbial-like region, 4) end coordinate of the detected microbial-like region, 5) genomic length of the microbial-like region, 6) total number of reads aligned to the detected microbial-like region, 7) average number of reads supporting each position within the detected microbial-like region, 8) the next five columns represent top abundant microbial species for each detected microbial-like region (the number of reads is reported for each of the top abundant microbes); if fewer than five unique microbes are dicovered within the microbial-like region, the rest of the columns contain recods \"NA_reads_NA\"."
   ]
  },
  {
   "cell_type": "code",
   "execution_count": 10,
   "id": "571d62dc-75a7-4c04-b941-b3e51bd47e0c",
   "metadata": {},
   "outputs": [
    {
     "name": "stdout",
     "output_type": "stream",
     "text": [
      "ORGANISM\tCONTIG\tSTART\tEND\tLENGTH\tN_READS\tAVERAGE_DEPTH\tMICR1\tMICR2\tMICR3\n",
      "GCF_002220235.fna.gz\tNC_023997.1\t231657\t231716\t59\t1\t1\t1_reads_UBA796_sp002707085\tNA_reads_NA\tNA_reads_NA\n",
      "GCF_002220235.fna.gz\tNC_023997.1\t231807\t232156\t349\t26\t4\t26_reads_UBA796_sp002707085\tNA_reads_NA\tNA_reads_NA\n",
      "GCF_002220235.fna.gz\tNC_023997.1\t232752\t232891\t139\t9\t4\t9_reads_UBA796_sp002707085\tNA_reads_NA\tNA_reads_NA\n",
      "GCF_002220235.fna.gz\tNC_023997.1\t232905\t232964\t59\t1\t1\t1_reads_UBA796_sp002707085\tNA_reads_NA\tNA_reads_NA\n",
      "GCF_002220235.fna.gz\tNC_023997.1\t233015\t233104\t89\t4\t3\t4_reads_UBA796_sp002707085\tNA_reads_NA\tNA_reads_NA\n",
      "GCF_002220235.fna.gz\tNC_023997.1\t233145\t233369\t224\t13\t3\t13_reads_UBA796_sp002707085\tNA_reads_NA\tNA_reads_NA\n",
      "GCF_002220235.fna.gz\tNC_023997.1\t233373\t233377\t4\t1\t1\t1_reads_UBA796_sp002707085\tNA_reads_NA\tNA_reads_NA\n",
      "GCF_002220235.fna.gz\tNC_023997.1\t233395\t233494\t99\t3\t2\t3_reads_UBA796_sp002707085\tNA_reads_NA\tNA_reads_NA\n",
      "GCF_002220235.fna.gz\tNC_023997.1\t233515\t233694\t179\t11\t4\t11_reads_UBA796_sp002707085\tNA_reads_NA\tNA_reads_NA\n"
     ]
    }
   ],
   "source": [
    "head coords_micr_contam_GCF_002220235.fna.gz.txt | cut -f1-10"
   ]
  },
  {
   "cell_type": "markdown",
   "id": "134011b7-9e9b-4b71-b840-13993071c381",
   "metadata": {},
   "source": [
    "Further, congigs within the eukaryotic reference genome sorted by the total number of aligned microbial pseuso-reads and contig-wide breadth of coverage are reported in **contigs_abund_sorted_GTDB_GCF_002220235.fna.gz.tx** and **contigs_boc_sorted_GTDB_GCF_002220235.fna.gz.txt** files, respectively."
   ]
  },
  {
   "cell_type": "code",
   "execution_count": 11,
   "id": "59a98fea-ab46-4855-aabf-6aca74c0b8e3",
   "metadata": {},
   "outputs": [
    {
     "name": "stdout",
     "output_type": "stream",
     "text": [
      "ORGANISM\tCONTIG\tN_READS\n",
      "GCF_002220235.fna.gz\tNC_023997.1\t347\n",
      "GCF_002220235.fna.gz\tNC_024004.1\t274\n",
      "GCF_002220235.fna.gz\tNC_024008.1\t221\n",
      "GCF_002220235.fna.gz\tNC_023992.1\t193\n",
      "GCF_002220235.fna.gz\tNC_024006.1\t186\n",
      "GCF_002220235.fna.gz\tNC_024001.1\t175\n",
      "GCF_002220235.fna.gz\tNC_024000.1\t123\n",
      "GCF_002220235.fna.gz\tNC_024003.1\t59\n"
     ]
    }
   ],
   "source": [
    "head contigs_abund_sorted_GTDB_GCF_002220235.fna.gz.txt"
   ]
  },
  {
   "cell_type": "code",
   "execution_count": 12,
   "id": "98162f5d-543d-419a-8be6-85f9870a598a",
   "metadata": {},
   "outputs": [
    {
     "name": "stdout",
     "output_type": "stream",
     "text": [
      "ORGANISM\tCONTIG\tN_READS\tLENGTH\tBOC\n",
      "GCF_002220235.fna.gz\tNC_023997.1\t347\t712459\t0.00871348\n",
      "GCF_002220235.fna.gz\tNC_023992.1\t193\t465570\t0.00777327\n",
      "GCF_002220235.fna.gz\tNC_024004.1\t274\t1019276\t0.00525471\n",
      "GCF_002220235.fna.gz\tNC_024008.1\t221\t1352724\t0.00400451\n",
      "GCF_002220235.fna.gz\tNC_024001.1\t175\t937610\t0.00396433\n",
      "GCF_002220235.fna.gz\tNC_024006.1\t186\t1091008\t0.00389915\n",
      "GCF_002220235.fna.gz\tNC_024000.1\t123\t895536\t0.00294349\n",
      "GCF_002220235.fna.gz\tNC_024003.1\t59\t989707\t0.00161462\n"
     ]
    }
   ],
   "source": [
    "head contigs_boc_sorted_GTDB_GCF_002220235.fna.gz.txt"
   ]
  },
  {
   "cell_type": "markdown",
   "id": "2f5fb8f3-4ba6-4dc0-8618-bf607013a951",
   "metadata": {},
   "source": [
    "The N_READS coluumn in both files reports the number of microbial pseudo-reads aligned to each contig / scaffold / chromosome within the eukaryotic reference genome. In addition, the LENGTH and BOC columns in the \"boc_sorted\" file report the length of each contig / scaffold / chromosome in the eukaryotic reference and the breadth of coverage (BOC - fraction of reference nucleotides covered at least once), respectively. Finally, **microbes_abundant_GTDB_GCF_002220235.fna.gz.txt** file contains GTDB microbial species (their reference genome ids) sorted by their total abundance within the whole eukaryotic reference genome."
   ]
  },
  {
   "cell_type": "code",
   "execution_count": 13,
   "id": "bb0ee231-3614-4ac9-a990-68a14d698304",
   "metadata": {},
   "outputs": [
    {
     "name": "stdout",
     "output_type": "stream",
     "text": [
      "   1578 5oFfr3yp0G.fna\n"
     ]
    }
   ],
   "source": [
    "head microbes_abundant_GTDB_GCF_002220235.fna.gz.txt"
   ]
  },
  {
   "cell_type": "markdown",
   "id": "d835d8ec-71f0-4531-ad70-1659da24f474",
   "metadata": {},
   "source": [
    "In this particular example, we had only one GTDB microbial species *UBA796 sp002707085* (with the reference 5oFfr3yp0G.fna) belonging to the phylum Myxococcota in the GTDB databse. All the 1578 micobial pseudo-reads aligned to the green algae reference genome belonged to that single microbe. The bam-file containng the alignments is **MicrReads_aligned_to_GCF_002220235.fna.gz.bam**, let us quickly check that there are 1578 aligned reads in total."
   ]
  },
  {
   "cell_type": "code",
   "execution_count": 14,
   "id": "8ea1a5a6-45b5-4c23-a7be-db27f4a1b373",
   "metadata": {},
   "outputs": [
    {
     "name": "stdout",
     "output_type": "stream",
     "text": [
      "1578\n"
     ]
    }
   ],
   "source": [
    "samtools view MicrReads_aligned_to_GCF_002220235.fna.gz.bam | wc -l"
   ]
  },
  {
   "cell_type": "markdown",
   "id": "ca7418b5-8f5c-43e1-a2bc-5700adcf5ff4",
   "metadata": {},
   "source": [
    "The *.boc.gz files contain the outputs from samtools depth for each contig / scaffold / chromosome within the eukaryotic reference genome. They are not very important and can be deleted for the sake of disk space."
   ]
  },
  {
   "cell_type": "code",
   "execution_count": null,
   "id": "473e5f44-0750-455e-82fe-4d63cfcadba5",
   "metadata": {},
   "outputs": [],
   "source": []
  }
 ],
 "metadata": {
  "kernelspec": {
   "display_name": "Bash",
   "language": "bash",
   "name": "bash"
  },
  "language_info": {
   "codemirror_mode": "shell",
   "file_extension": ".sh",
   "mimetype": "text/x-sh",
   "name": "bash"
  }
 },
 "nbformat": 4,
 "nbformat_minor": 5
}
